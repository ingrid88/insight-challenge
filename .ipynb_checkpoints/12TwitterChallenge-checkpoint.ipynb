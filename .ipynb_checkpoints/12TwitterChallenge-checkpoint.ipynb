{
 "cells": [
  {
   "cell_type": "code",
   "execution_count": 2,
   "metadata": {
    "collapsed": false
   },
   "outputs": [],
   "source": [
    "d = dict()\n",
    "d[\"cat\"]=1"
   ]
  },
  {
   "cell_type": "code",
   "execution_count": 5,
   "metadata": {
    "collapsed": false
   },
   "outputs": [
    {
     "data": {
      "text/plain": [
       "{'cat': 3}"
      ]
     },
     "execution_count": 5,
     "metadata": {},
     "output_type": "execute_result"
    }
   ],
   "source": [
    "d['cat'] = 3\n",
    "d"
   ]
  },
  {
   "cell_type": "markdown",
   "metadata": {},
   "source": [
    "## Challenge 1\n",
    "\n",
    "Make a histogram of the years in the data. How many metal movies came out over the years?"
   ]
  },
  {
   "cell_type": "code",
   "execution_count": null,
   "metadata": {
    "collapsed": true
   },
   "outputs": [],
   "source": []
  },
  {
   "cell_type": "markdown",
   "metadata": {},
   "source": [
    "## Challenge 2\n",
    "\n",
    "Find the cast member that appeared in most Heavy Metal movies. Is there one that is shared by more than one of these movies? Or are they all completely different actors for every movie?"
   ]
  },
  {
   "cell_type": "markdown",
   "metadata": {},
   "source": [
    "## Challenge 3\n",
    "\n",
    "Find the most used words in Heavy Metal film titles. Is there a word that appears in a lot of them? Is it \"The\"? If it is something like \"the\", How can you get around that? Find one \"meaningful\" word that appears the most (this means non-structural word, unlike \"the\" or \"a\" or \"in\")"
   ]
  },
  {
   "cell_type": "markdown",
   "metadata": {},
   "source": [
    "## Challenge 4\n",
    "\n",
    "METAL CRED section lists themes included in these movies that makes them more metal. What were the top 5 metal cred keywords in the 70s? In 80s? In 90s, In 2000s?"
   ]
  },
  {
   "cell_type": "markdown",
   "metadata": {},
   "source": [
    "## Challenge 5\n",
    "\n",
    "Let's use the length of the METAL CRED section as a proxy score for how metal a movie is. Let's call this the METAL SCORE. To each mongo document, add the metal_score as a new field."
   ]
  },
  {
   "cell_type": "markdown",
   "metadata": {},
   "source": [
    "## Challenge 6\n",
    "\n",
    "Find the director that is MOST METAL per movie (director with the highest average metal score). Remember that some movies have multiple directors."
   ]
  },
  {
   "cell_type": "markdown",
   "metadata": {},
   "source": [
    "## Challenge 7\n",
    "\n",
    "The majority of directors and actors will have worked on a single movie. See if there are any directors that worked with an actor more than once. If so, find the director-actor duo that have worked together the most times."
   ]
  },
  {
   "cell_type": "markdown",
   "metadata": {},
   "source": [
    "## Challenge 8\n",
    "\n",
    "Create an index on the 'director' field to make the queries involving it faster. What is an index?\n",
    "\n",
    "Creating an index in mongo Creating an index in pymongo Single field index on mongo Mongo documentation on indexes"
   ]
  },
  {
   "cell_type": "markdown",
   "metadata": {},
   "source": [
    "## Challenge 9 (Optional challenge for early finishers)\n",
    "\n",
    "For each decade, make a histogram of metal scores. Also, calculate the average metal score for each decade. Which decade was the most pure metal decade?\n",
    "\n",
    "Note (rather than a challenge)\n",
    "\n",
    "In the latest version of mongo, you can do a text query. To do this, you need to create one (only one) text-based index. Let's index the_meat field so we can make text search queries on it (in pymongo):\n",
    "\n",
    "db.reviews.create_index([(\"the_meat\", pymongo.TEXT,)])\n",
    "\n",
    "Now you can do text search. For example, let's search for the phrase \"hitting power chords\" within \"the_meat\" fields of all our documents.\n",
    "\n",
    "db.reviews.find({\"$text\": {\"$search\": \"hitting power\n",
    "chords\"}}).count()\n",
    "\n",
    "206\n",
    "It has found 206 reviews. I can print the titles of the first 10 reviews that were returned in this text search:\n",
    "\n",
    "ten_matches = r.find({\"$text\": {\"$search\": \"hitting power chords\"}}).limit(10)\n",
    "for match in ten_matches:\n",
    "    print match[\"title\"]\n",
    "\n",
    "\n",
    "DOMINATOR\n",
    "REPO: THE GENETIC OPERA\n",
    "GREMLINS 2: THE NEW BATCH\n",
    "VICE SQUAD\n",
    "THE JERKY BOYS: THE MOVIE\n",
    "THE SONG REMAINS THE SAME\n",
    "THE EXORCIST\n",
    "THE CROW\n",
    "CANNIBAL HOLOCAUST\n",
    "HOSTEL\n",
    "Enjoy your text searches : ) These can be very useful in some apps."
   ]
  },
  {
   "cell_type": "markdown",
   "metadata": {},
   "source": [
    "## Twitter API Extension\n",
    "\n",
    "Create a mongo collection of tweets about something (anything you choose).\n",
    "\n",
    "Each mongo document should contain the text, username, favorite count and retweet count of the tweet."
   ]
  },
  {
   "cell_type": "code",
   "execution_count": null,
   "metadata": {
    "collapsed": true
   },
   "outputs": [],
   "source": []
  },
  {
   "cell_type": "code",
   "execution_count": null,
   "metadata": {
    "collapsed": true
   },
   "outputs": [],
   "source": []
  },
  {
   "cell_type": "code",
   "execution_count": null,
   "metadata": {
    "collapsed": true
   },
   "outputs": [],
   "source": []
  }
 ],
 "metadata": {
  "kernelspec": {
   "display_name": "Python 3",
   "language": "python",
   "name": "python3"
  },
  "language_info": {
   "codemirror_mode": {
    "name": "ipython",
    "version": 3
   },
   "file_extension": ".py",
   "mimetype": "text/x-python",
   "name": "python",
   "nbconvert_exporter": "python",
   "pygments_lexer": "ipython3",
   "version": "3.5.1"
  }
 },
 "nbformat": 4,
 "nbformat_minor": 0
}
