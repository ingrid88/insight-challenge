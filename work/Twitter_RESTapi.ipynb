{
 "cells": [
  {
   "cell_type": "code",
   "execution_count": 1,
   "metadata": {
    "collapsed": true
   },
   "outputs": [],
   "source": [
    "import requests\n",
    "from requests_oauthlib import OAuth1"
   ]
  },
  {
   "cell_type": "code",
   "execution_count": 2,
   "metadata": {
    "collapsed": false
   },
   "outputs": [],
   "source": [
    "# Importing our Config\n",
    "\n",
    "import cnfg\n",
    "config = cnfg.load(\".twitter_config\")\n",
    "\n",
    "oauth = OAuth1(config[\"consumer_key\"],\n",
    "               config[\"consumer_secret\"],\n",
    "               config[\"access_token\"],\n",
    "               config[\"access_token_secret\"])"
   ]
  },
  {
   "cell_type": "code",
   "execution_count": 3,
   "metadata": {
    "collapsed": true
   },
   "outputs": [],
   "source": [
    "import tweepy\n",
    "import pandas as pd\n",
    "\n",
    "auth = tweepy.OAuthHandler(config[\"consumer_key\"],\n",
    "                           config[\"consumer_secret\"])\n",
    "auth.set_access_token(config[\"access_token\"],\n",
    "                      config[\"access_token_secret\"])\n",
    "\n",
    "api=tweepy.API(auth)"
   ]
  },
  {
   "cell_type": "code",
   "execution_count": 4,
   "metadata": {
    "collapsed": false
   },
   "outputs": [],
   "source": [
    "screen_name = 'realDonaldTrump'\n",
    "alltweets = []\n",
    "new_tweets = api.user_timeline(screen_name = screen_name,count=200)\n",
    "alltweets.extend(new_tweets)\n",
    "oldest = alltweets[-1].id - 1"
   ]
  },
  {
   "cell_type": "code",
   "execution_count": null,
   "metadata": {
    "collapsed": true
   },
   "outputs": [],
   "source": [
    "screen_name = 'realDonaldTrump'\n",
    "alltweets = []\n",
    "new_tweets = api.user_timeline(screen_name = screen_name,count=200)\n",
    "alltweets.extend(new_tweets)\n",
    "oldest = alltweets[-1].id - 1\n",
    "\n",
    "#keep grabbing tweets until there are no tweets left to grab\n",
    "while len(new_tweets) > 0:\n",
    "    print \"getting tweets before %s\" % (oldest)\n",
    "\n",
    "    #all subsiquent requests use the max_id param to prevent duplicates\n",
    "    new_tweets = api.user_timeline(screen_name = screen_name,count=200,max_id=oldest,exclude_replies=True)\n",
    "\n",
    "    #save most recent tweets\n",
    "    alltweets.extend(new_tweets)\n",
    "\n",
    "    #update the id of the oldest tweet less one\n",
    "    oldest = alltweets[-1].id - 1\n",
    "\n",
    "    print \"...%s tweets downloaded so far\" % (len(alltweets))"
   ]
  },
  {
   "cell_type": "code",
   "execution_count": 5,
   "metadata": {
    "collapsed": false
   },
   "outputs": [
    {
     "name": "stdout",
     "output_type": "stream",
     "text": [
      "getting tweets before 698242702194954239\n",
      "...400 tweets downloaded so far\n",
      "getting tweets before 693138448371286015\n",
      "...600 tweets downloaded so far\n",
      "getting tweets before 690167662698110975\n",
      "...800 tweets downloaded so far\n",
      "getting tweets before 684217554861199359\n",
      "...999 tweets downloaded so far\n",
      "getting tweets before 679463530190499839\n",
      "...1197 tweets downloaded so far\n",
      "getting tweets before 675903541542838271\n",
      "...1396 tweets downloaded so far\n",
      "getting tweets before 672912359829200896\n",
      "...1595 tweets downloaded so far\n",
      "getting tweets before 668916575492317183\n",
      "...1795 tweets downloaded so far\n",
      "getting tweets before 665673643637215232\n",
      "...1994 tweets downloaded so far\n",
      "getting tweets before 662197583398477823\n",
      "...2194 tweets downloaded so far\n",
      "getting tweets before 659631254787088383\n",
      "...2393 tweets downloaded so far\n",
      "getting tweets before 656302157294116863\n",
      "...2593 tweets downloaded so far\n",
      "getting tweets before 654101562948763647\n",
      "...2793 tweets downloaded so far\n",
      "getting tweets before 651200866045706239\n",
      "...2993 tweets downloaded so far\n",
      "getting tweets before 646683914216546303\n",
      "...3181 tweets downloaded so far\n",
      "getting tweets before 642653251062616063\n",
      "...3230 tweets downloaded so far\n",
      "getting tweets before 640965938410561540\n",
      "...3230 tweets downloaded so far\n"
     ]
    }
   ],
   "source": [
    "#keep grabbing tweets until there are no tweets left to grab\n",
    "while len(new_tweets) > 0:\n",
    "    print \"getting tweets before %s\" % (oldest)\n",
    "\n",
    "    #all subsiquent requests use the max_id param to prevent duplicates\n",
    "    new_tweets = api.user_timeline(screen_name = screen_name,count=200,max_id=oldest,exclude_replies=True)\n",
    "\n",
    "    #save most recent tweets\n",
    "    alltweets.extend(new_tweets)\n",
    "\n",
    "    #update the id of the oldest tweet less one\n",
    "    oldest = alltweets[-1].id - 1\n",
    "\n",
    "    print \"...%s tweets downloaded so far\" % (len(alltweets))"
   ]
  },
  {
   "cell_type": "code",
   "execution_count": 20,
   "metadata": {
    "collapsed": true
   },
   "outputs": [],
   "source": [
    "import json\n",
    "from pymongo import MongoClient\n",
    "\n",
    "\n",
    "client = MongoClient()\n",
    "db = client.legislation\n",
    "# Our collection: \n",
    "tweets = db.new_tweets"
   ]
  },
  {
   "cell_type": "code",
   "execution_count": 22,
   "metadata": {
    "collapsed": false
   },
   "outputs": [
    {
     "ename": "DuplicateKeyError",
     "evalue": "E11000 duplicate key error collection: legislation.new_tweets index: _id_ dup key: { : ObjectId('56ccf01703008a7267bb07f5') }",
     "output_type": "error",
     "traceback": [
      "\u001b[1;31m---------------------------------------------------------------------------\u001b[0m",
      "\u001b[1;31mDuplicateKeyError\u001b[0m                         Traceback (most recent call last)",
      "\u001b[1;32m<ipython-input-22-07352f29397b>\u001b[0m in \u001b[0;36m<module>\u001b[1;34m()\u001b[0m\n\u001b[0;32m      1\u001b[0m \u001b[1;32mfor\u001b[0m \u001b[0mtweet\u001b[0m \u001b[1;32min\u001b[0m \u001b[0malltweets\u001b[0m\u001b[1;33m:\u001b[0m\u001b[1;33m\u001b[0m\u001b[0m\n\u001b[0;32m      2\u001b[0m     \u001b[0mdata\u001b[0m \u001b[1;33m=\u001b[0m \u001b[0mtweet\u001b[0m\u001b[1;33m.\u001b[0m\u001b[0m_json\u001b[0m\u001b[1;33m\u001b[0m\u001b[0m\n\u001b[1;32m----> 3\u001b[1;33m     \u001b[0mtweets\u001b[0m\u001b[1;33m.\u001b[0m\u001b[0minsert_one\u001b[0m\u001b[1;33m(\u001b[0m\u001b[0mdata\u001b[0m\u001b[1;33m)\u001b[0m\u001b[1;33m\u001b[0m\u001b[0m\n\u001b[0m",
      "\u001b[1;32m/home/ingrid/anaconda2/lib/python2.7/site-packages/pymongo/collection.pyc\u001b[0m in \u001b[0;36minsert_one\u001b[1;34m(self, document, bypass_document_validation)\u001b[0m\n\u001b[0;32m    623\u001b[0m             return InsertOneResult(\n\u001b[0;32m    624\u001b[0m                 self._insert(sock_info, document,\n\u001b[1;32m--> 625\u001b[1;33m                              bypass_doc_val=bypass_document_validation),\n\u001b[0m\u001b[0;32m    626\u001b[0m                 self.write_concern.acknowledged)\n\u001b[0;32m    627\u001b[0m \u001b[1;33m\u001b[0m\u001b[0m\n",
      "\u001b[1;32m/home/ingrid/anaconda2/lib/python2.7/site-packages/pymongo/collection.pyc\u001b[0m in \u001b[0;36m_insert\u001b[1;34m(self, sock_info, docs, ordered, check_keys, manipulate, write_concern, op_id, bypass_doc_val)\u001b[0m\n\u001b[0;32m    528\u001b[0m             return self._insert_one(\n\u001b[0;32m    529\u001b[0m                 \u001b[0msock_info\u001b[0m\u001b[1;33m,\u001b[0m \u001b[0mdocs\u001b[0m\u001b[1;33m,\u001b[0m \u001b[0mordered\u001b[0m\u001b[1;33m,\u001b[0m\u001b[1;33m\u001b[0m\u001b[0m\n\u001b[1;32m--> 530\u001b[1;33m                 check_keys, manipulate, write_concern, op_id, bypass_doc_val)\n\u001b[0m\u001b[0;32m    531\u001b[0m \u001b[1;33m\u001b[0m\u001b[0m\n\u001b[0;32m    532\u001b[0m         \u001b[0mids\u001b[0m \u001b[1;33m=\u001b[0m \u001b[1;33m[\u001b[0m\u001b[1;33m]\u001b[0m\u001b[1;33m\u001b[0m\u001b[0m\n",
      "\u001b[1;32m/home/ingrid/anaconda2/lib/python2.7/site-packages/pymongo/collection.pyc\u001b[0m in \u001b[0;36m_insert_one\u001b[1;34m(self, sock_info, doc, ordered, check_keys, manipulate, write_concern, op_id, bypass_doc_val)\u001b[0m\n\u001b[0;32m    511\u001b[0m                                        \u001b[0mcodec_options\u001b[0m\u001b[1;33m=\u001b[0m\u001b[0mself\u001b[0m\u001b[1;33m.\u001b[0m\u001b[0mcodec_options\u001b[0m\u001b[1;33m,\u001b[0m\u001b[1;33m\u001b[0m\u001b[0m\n\u001b[0;32m    512\u001b[0m                                        check_keys=check_keys)\n\u001b[1;32m--> 513\u001b[1;33m             \u001b[0m_check_write_command_response\u001b[0m\u001b[1;33m(\u001b[0m\u001b[1;33m[\u001b[0m\u001b[1;33m(\u001b[0m\u001b[1;36m0\u001b[0m\u001b[1;33m,\u001b[0m \u001b[0mresult\u001b[0m\u001b[1;33m)\u001b[0m\u001b[1;33m]\u001b[0m\u001b[1;33m)\u001b[0m\u001b[1;33m\u001b[0m\u001b[0m\n\u001b[0m\u001b[0;32m    514\u001b[0m         \u001b[1;32melse\u001b[0m\u001b[1;33m:\u001b[0m\u001b[1;33m\u001b[0m\u001b[0m\n\u001b[0;32m    515\u001b[0m             \u001b[1;31m# Legacy OP_INSERT.\u001b[0m\u001b[1;33m\u001b[0m\u001b[1;33m\u001b[0m\u001b[0m\n",
      "\u001b[1;32m/home/ingrid/anaconda2/lib/python2.7/site-packages/pymongo/helpers.pyc\u001b[0m in \u001b[0;36m_check_write_command_response\u001b[1;34m(results)\u001b[0m\n\u001b[0;32m    298\u001b[0m             \u001b[0merror\u001b[0m\u001b[1;33m[\u001b[0m\u001b[1;34m\"index\"\u001b[0m\u001b[1;33m]\u001b[0m \u001b[1;33m+=\u001b[0m \u001b[0moffset\u001b[0m\u001b[1;33m\u001b[0m\u001b[0m\n\u001b[0;32m    299\u001b[0m             \u001b[1;32mif\u001b[0m \u001b[0merror\u001b[0m\u001b[1;33m.\u001b[0m\u001b[0mget\u001b[0m\u001b[1;33m(\u001b[0m\u001b[1;34m\"code\"\u001b[0m\u001b[1;33m)\u001b[0m \u001b[1;33m==\u001b[0m \u001b[1;36m11000\u001b[0m\u001b[1;33m:\u001b[0m\u001b[1;33m\u001b[0m\u001b[0m\n\u001b[1;32m--> 300\u001b[1;33m                 \u001b[1;32mraise\u001b[0m \u001b[0mDuplicateKeyError\u001b[0m\u001b[1;33m(\u001b[0m\u001b[0merror\u001b[0m\u001b[1;33m.\u001b[0m\u001b[0mget\u001b[0m\u001b[1;33m(\u001b[0m\u001b[1;34m\"errmsg\"\u001b[0m\u001b[1;33m)\u001b[0m\u001b[1;33m,\u001b[0m \u001b[1;36m11000\u001b[0m\u001b[1;33m,\u001b[0m \u001b[0merror\u001b[0m\u001b[1;33m)\u001b[0m\u001b[1;33m\u001b[0m\u001b[0m\n\u001b[0m\u001b[0;32m    301\u001b[0m             \u001b[1;32mraise\u001b[0m \u001b[0mWriteError\u001b[0m\u001b[1;33m(\u001b[0m\u001b[0merror\u001b[0m\u001b[1;33m.\u001b[0m\u001b[0mget\u001b[0m\u001b[1;33m(\u001b[0m\u001b[1;34m\"errmsg\"\u001b[0m\u001b[1;33m)\u001b[0m\u001b[1;33m,\u001b[0m \u001b[0merror\u001b[0m\u001b[1;33m.\u001b[0m\u001b[0mget\u001b[0m\u001b[1;33m(\u001b[0m\u001b[1;34m\"code\"\u001b[0m\u001b[1;33m)\u001b[0m\u001b[1;33m,\u001b[0m \u001b[0merror\u001b[0m\u001b[1;33m)\u001b[0m\u001b[1;33m\u001b[0m\u001b[0m\n\u001b[0;32m    302\u001b[0m         \u001b[1;32melse\u001b[0m\u001b[1;33m:\u001b[0m\u001b[1;33m\u001b[0m\u001b[0m\n",
      "\u001b[1;31mDuplicateKeyError\u001b[0m: E11000 duplicate key error collection: legislation.new_tweets index: _id_ dup key: { : ObjectId('56ccf01703008a7267bb07f5') }"
     ]
    }
   ],
   "source": [
    "for tweet in alltweets:\n",
    "    data = tweet._json\n",
    "    tweets.insert_one(data)"
   ]
  },
  {
   "cell_type": "code",
   "execution_count": null,
   "metadata": {
    "collapsed": true
   },
   "outputs": [],
   "source": [
    "Create a class inheriting from StreamListener\n",
    "Using that class create a Stream object\n",
    "Connect to the Twitter API using the Stream."
   ]
  },
  {
   "cell_type": "code",
   "execution_count": 18,
   "metadata": {
    "collapsed": false
   },
   "outputs": [],
   "source": [
    "tweets.find();"
   ]
  },
  {
   "cell_type": "code",
   "execution_count": 19,
   "metadata": {
    "collapsed": false
   },
   "outputs": [
    {
     "ename": "SyntaxError",
     "evalue": "invalid syntax (<ipython-input-19-3aaf6e6b0c37>, line 1)",
     "output_type": "error",
     "traceback": [
      "\u001b[1;36m  File \u001b[1;32m\"<ipython-input-19-3aaf6e6b0c37>\"\u001b[1;36m, line \u001b[1;32m1\u001b[0m\n\u001b[1;33m    var c = tweets.find();\u001b[0m\n\u001b[1;37m        ^\u001b[0m\n\u001b[1;31mSyntaxError\u001b[0m\u001b[1;31m:\u001b[0m invalid syntax\n"
     ]
    }
   ],
   "source": [
    "var c = tweets.find();\n",
    "while ( c.hasNext() ) { printjson( c.next() ) }\n"
   ]
  },
  {
   "cell_type": "code",
   "execution_count": 15,
   "metadata": {
    "collapsed": false
   },
   "outputs": [
    {
     "data": {
      "text/plain": [
       "{'_id': ObjectId('56ccf01803008a7267bb1492'),\n",
       " u'contributors': None,\n",
       " u'coordinates': {u'coordinates': [-74.6971005, 40.6547373],\n",
       "  u'type': u'Point'},\n",
       " u'created_at': u'Mon Sep 07 19:12:42 +0000 2015',\n",
       " u'entities': {u'hashtags': [],\n",
       "  u'symbols': [],\n",
       "  u'urls': [],\n",
       "  u'user_mentions': [{u'id': 100845380,\n",
       "    u'id_str': u'100845380',\n",
       "    u'indices': [1, 14],\n",
       "    u'name': u'Douglas Maher',\n",
       "    u'screen_name': u'Douglasmaher'},\n",
       "   {u'id': 25073877,\n",
       "    u'id_str': u'25073877',\n",
       "    u'indices': [16, 32],\n",
       "    u'name': u'Donald J. Trump',\n",
       "    u'screen_name': u'realDonaldTrump'},\n",
       "   {u'id': 54769979,\n",
       "    u'id_str': u'54769979',\n",
       "    u'indices': [33, 42],\n",
       "    u'name': u'TIMENOUT',\n",
       "    u'screen_name': u'TIMENOUT'},\n",
       "   {u'id': 16906141,\n",
       "    u'id_str': u'16906141',\n",
       "    u'indices': [43, 53],\n",
       "    u'name': u'SurveyUSA',\n",
       "    u'screen_name': u'surveyusa'}]},\n",
       " u'favorite_count': 1347,\n",
       " u'favorited': False,\n",
       " u'geo': {u'coordinates': [40.6547373, -74.6971005], u'type': u'Point'},\n",
       " u'id': 640965938410561541,\n",
       " u'id_str': u'640965938410561541',\n",
       " u'in_reply_to_screen_name': None,\n",
       " u'in_reply_to_status_id': None,\n",
       " u'in_reply_to_status_id_str': None,\n",
       " u'in_reply_to_user_id': None,\n",
       " u'in_reply_to_user_id_str': None,\n",
       " u'is_quote_status': False,\n",
       " u'lang': u'en',\n",
       " u'place': {u'attributes': {},\n",
       "  u'bounding_box': {u'coordinates': [[[-75.563587, 38.788657],\n",
       "     [-73.88506, 38.788657],\n",
       "     [-73.88506, 41.357424],\n",
       "     [-75.563587, 41.357424]]],\n",
       "   u'type': u'Polygon'},\n",
       "  u'contained_within': [],\n",
       "  u'country': u'United States',\n",
       "  u'country_code': u'US',\n",
       "  u'full_name': u'New Jersey, USA',\n",
       "  u'id': u'65b4760a2b411e11',\n",
       "  u'name': u'New Jersey',\n",
       "  u'place_type': u'admin',\n",
       "  u'url': u'https://api.twitter.com/1.1/geo/id/65b4760a2b411e11.json'},\n",
       " u'retweet_count': 574,\n",
       " u'retweeted': False,\n",
       " u'source': u'<a href=\"http://twitter.com/download/android\" rel=\"nofollow\">Twitter for Android</a>',\n",
       " u'text': u'\"@Douglasmaher: @realDonaldTrump @TIMENOUT @surveyusa Looking forward to seeing you in Dallas and voting for you.\" Great!',\n",
       " u'truncated': False,\n",
       " u'user': {u'contributors_enabled': False,\n",
       "  u'created_at': u'Wed Mar 18 13:46:38 +0000 2009',\n",
       "  u'default_profile': False,\n",
       "  u'default_profile_image': False,\n",
       "  u'description': u'#NevadaCaucus #VoteTrumpNV #MakeAmericaGreatAgain #Trump2016',\n",
       "  u'entities': {u'description': {u'urls': []},\n",
       "   u'url': {u'urls': [{u'display_url': u'DonaldJTrump.com',\n",
       "      u'expanded_url': u'http://www.DonaldJTrump.com',\n",
       "      u'indices': [0, 23],\n",
       "      u'url': u'https://t.co/mZB2hy4Wdz'}]}},\n",
       "  u'favourites_count': 66,\n",
       "  u'follow_request_sent': False,\n",
       "  u'followers_count': 6324201,\n",
       "  u'following': True,\n",
       "  u'friends_count': 48,\n",
       "  u'geo_enabled': True,\n",
       "  u'has_extended_profile': False,\n",
       "  u'id': 25073877,\n",
       "  u'id_str': u'25073877',\n",
       "  u'is_translation_enabled': True,\n",
       "  u'is_translator': False,\n",
       "  u'lang': u'en',\n",
       "  u'listed_count': 30128,\n",
       "  u'location': u'New York, NY',\n",
       "  u'name': u'Donald J. Trump',\n",
       "  u'notifications': False,\n",
       "  u'profile_background_color': u'6D5C18',\n",
       "  u'profile_background_image_url': u'http://pbs.twimg.com/profile_background_images/530021613/trump_scotland__43_of_70_cc.jpg',\n",
       "  u'profile_background_image_url_https': u'https://pbs.twimg.com/profile_background_images/530021613/trump_scotland__43_of_70_cc.jpg',\n",
       "  u'profile_background_tile': True,\n",
       "  u'profile_banner_url': u'https://pbs.twimg.com/profile_banners/25073877/1456207228',\n",
       "  u'profile_image_url': u'http://pbs.twimg.com/profile_images/1980294624/DJT_Headshot_V2_normal.jpg',\n",
       "  u'profile_image_url_https': u'https://pbs.twimg.com/profile_images/1980294624/DJT_Headshot_V2_normal.jpg',\n",
       "  u'profile_link_color': u'0D5B73',\n",
       "  u'profile_sidebar_border_color': u'BDDCAD',\n",
       "  u'profile_sidebar_fill_color': u'C5CEC0',\n",
       "  u'profile_text_color': u'333333',\n",
       "  u'profile_use_background_image': True,\n",
       "  u'protected': False,\n",
       "  u'screen_name': u'realDonaldTrump',\n",
       "  u'statuses_count': 30944,\n",
       "  u'time_zone': u'Eastern Time (US & Canada)',\n",
       "  u'url': u'https://t.co/mZB2hy4Wdz',\n",
       "  u'utc_offset': -18000,\n",
       "  u'verified': True}}"
      ]
     },
     "execution_count": 15,
     "metadata": {},
     "output_type": "execute_result"
    }
   ],
   "source": [
    "alltweets[-1]._json #['user']['description']"
   ]
  },
  {
   "cell_type": "code",
   "execution_count": null,
   "metadata": {
    "collapsed": true
   },
   "outputs": [],
   "source": []
  },
  {
   "cell_type": "code",
   "execution_count": 7,
   "metadata": {
    "collapsed": false
   },
   "outputs": [],
   "source": [
    "#transform the tweepy tweets into a 2D array that will populate the csv\t\n",
    "outtweets = [[tweet.id_str, tweet.created_at, tweet.text.encode(\"utf-8\")] for tweet in alltweets]"
   ]
  },
  {
   "cell_type": "code",
   "execution_count": 8,
   "metadata": {
    "collapsed": false
   },
   "outputs": [
    {
     "name": "stdout",
     "output_type": "stream",
     "text": [
      "[u'702270277560852480', datetime.datetime(2016, 2, 23, 23, 14, 16), 'Thank you Sparks, Nevada!\\n#VoteTrumpNV \\n\\n#NevadaCaucus Finder: \\nhttps://t.co/Ryp3DwNe0u\\n\\nhttps://t.co/n74lmDoRQO https://t.co/sO5h9LmIMg']\n"
     ]
    }
   ],
   "source": [
    "for tweet in outtweets:\n",
    "    print tweet\n",
    "    break"
   ]
  },
  {
   "cell_type": "code",
   "execution_count": 10,
   "metadata": {
    "collapsed": false
   },
   "outputs": [
    {
     "name": "stdout",
     "output_type": "stream",
     "text": [
      "<class 'tweepy.models.Status'>\n"
     ]
    }
   ],
   "source": [
    "for tweet in alltweets:\n",
    "    print type(tweet)\n",
    "    break"
   ]
  }
 ],
 "metadata": {
  "kernelspec": {
   "display_name": "Python 2",
   "language": "python",
   "name": "python2"
  },
  "language_info": {
   "codemirror_mode": {
    "name": "ipython",
    "version": 2
   },
   "file_extension": ".py",
   "mimetype": "text/x-python",
   "name": "python",
   "nbconvert_exporter": "python",
   "pygments_lexer": "ipython2",
   "version": "2.7.11"
  }
 },
 "nbformat": 4,
 "nbformat_minor": 0
}
