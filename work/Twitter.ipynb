{
 "cells": [
  {
   "cell_type": "code",
   "execution_count": 2,
   "metadata": {
    "collapsed": false
   },
   "outputs": [],
   "source": [
    "import requests\n",
    "from requests_oauthlib import OAuth1"
   ]
  },
  {
   "cell_type": "code",
   "execution_count": 25,
   "metadata": {
    "collapsed": false
   },
   "outputs": [],
   "source": [
    "\n",
    "# Importing our Config\n",
    "\n",
    "#pip install cnfg\n",
    "\n",
    "import cnfg\n",
    "config = cnfg.load(\".twitter_config\")\n",
    "\n",
    "oauth = OAuth1(config[\"consumer_key\"],\n",
    "               config[\"consumer_secret\"],\n",
    "               config[\"access_token\"],\n",
    "               config[\"access_token_secret\"])"
   ]
  },
  {
   "cell_type": "code",
   "execution_count": 26,
   "metadata": {
    "collapsed": false
   },
   "outputs": [
    {
     "name": "stdout",
     "output_type": "stream",
     "text": [
      "contributors\n",
      "truncated\n",
      "text\n",
      "is_quote_status\n",
      "in_reply_to_status_id\n",
      "id\n",
      "favorite_count\n",
      "source\n",
      "retweeted\n",
      "coordinates\n",
      "entities\n",
      "in_reply_to_screen_name\n",
      "id_str\n",
      "retweet_count\n",
      "in_reply_to_user_id\n",
      "favorited\n",
      "user\n",
      "geo\n",
      "in_reply_to_user_id_str\n",
      "lang\n",
      "created_at\n",
      "in_reply_to_status_id_str\n",
      "place\n"
     ]
    }
   ],
   "source": [
    "response = requests.get(\"https://api.twitter.com/1.1/statuses/user_timeline.json\",\n",
    "                        auth=oauth)\n",
    "\n",
    "tweets = response.json()\n",
    "\n",
    "for key in tweets[0].keys():\n",
    "    print key\n",
    "    "
   ]
  },
  {
   "cell_type": "code",
   "execution_count": 28,
   "metadata": {
    "collapsed": false
   },
   "outputs": [
    {
     "name": "stdout",
     "output_type": "stream",
     "text": [
      "at Weworks happy hour\n",
      "\n",
      "RT @lesliehoward: #SheHacksNYC  It was close. Of 11 teams, #ICEPlan finals w a huge round of applause in 2nd place! http://t.co/ltb6YQkg6d\n",
      "\n",
      "W00t ICEplan runners up at #SheHacksNYC: @milkwork\n",
      "\n",
      "It's too nice outside! http://t.co/X6mKx8IAwG\n",
      "\n",
      "#shehacksnyc sunset crazy http://t.co/TYQFA1rbxc\n",
      "\n",
      "#shehacksnyc  everyone working hard today http://t.co/8uEzGGXOvO\n",
      "\n"
     ]
    }
   ],
   "source": [
    "for tweet in tweets:\n",
    "    print tweet['text']\n",
    "    print"
   ]
  },
  {
   "cell_type": "code",
   "execution_count": 29,
   "metadata": {
    "collapsed": false
   },
   "outputs": [
    {
     "name": "stdout",
     "output_type": "stream",
     "text": [
      "{u'completed_in': 0.204,\n",
      " u'count': 40,\n",
      " u'max_id': 702191971293655040,\n",
      " u'max_id_str': u'702191971293655040',\n",
      " u'next_results': u'?max_id=702020097704120319&q=triumph%20comic&count=40&include_entities=1',\n",
      " u'query': u'triumph+comic',\n",
      " u'refresh_url': u'?since_id=702191971293655040&q=triumph%20comic&include_entities=1',\n",
      " u'since_id': 0,\n",
      " u'since_id_str': u'0'}\n"
     ]
    }
   ],
   "source": [
    "parameters = {\"q\": [\"triumph comic\"], \"count\":40}\n",
    "response = requests.get(\"https://api.twitter.com/1.1/search/tweets.json\",\n",
    "                        params = parameters,\n",
    "                        auth=oauth)\n",
    "\n",
    "from pprint import pprint\n",
    "pprint(response.json()['search_metadata'])"
   ]
  },
  {
   "cell_type": "code",
   "execution_count": 30,
   "metadata": {
    "collapsed": false
   },
   "outputs": [
    {
     "name": "stdout",
     "output_type": "stream",
     "text": [
      "PAGE 1\n",
      "702191971293655040 Triumph the Insult Comic Dog Sends Fake Fox News Girls to Trump Rally • ... https://t.co/Wh92aIgxoc via YouTube\n",
      "\n",
      "702190961233940480 Triumph the Insult Comic Dog Sends Fake Fox News Girls to Trump Rally https://t.co/cCRN4vOhAI insanely funny &amp; frightening\n",
      "\n",
      "702187040943636480 Triumph the Insult Comic Dog Sends Fake Fox News Girls to Trump Rally • ... https://t.co/CAi766sGzb via @YouTube\n",
      "\n",
      "702181294197882881 Triumph the Insult Comic Dog Sends Fake Fox News Girls to Trump Rally • Triumph on Hulu https://t.co/nowR3uTa2C\n",
      "\n",
      "702177402768617472 Triumph the Insult Comic Dog Sends Fake Fox News Girls to Trump Rally • ... https://t.co/YzBTloWhiH via YouTube\n",
      "\n",
      "702169984479453188 Triumph the Insult Comic Dog Sends Fake Fox News Girls to Trump Rally • ... https://t.co/JJEG5CkgOz via @YouTube\n",
      "\n",
      "702169151138213888 Triumph the Insult Comic Dog Sends Fake Fox News Girls to Trump Rally  https://t.co/yTQkIr2tu5\n",
      "\n",
      "702165938452328449 Wow: Triumph the Insult Comic Dog Sends Fake Fox News Girls to Trump Rally • ... https://t.co/o0wc42z3Ki via @YouTube\n",
      "\n",
      "702164519087431681 Triumph the Insult Comic Dog Sends Fake Fox News Girls to Trump Rally • ... https://t.co/lGn3Nm4fJz via @YouTube sorry\n",
      "\n",
      "702150337826840576 Triumph the Insult Comic Dog Stalks Ted Cruz • Triumph on Hulu https://t.co/WqqgiUcDhr via @YouTube\n",
      "\n",
      "702148997042069504 RT @Jeannie_Hartley: #Politics hilarious Triumph the Insult Comic Dog Sends Fake Fox News Girls to #Trump Rally • ... https://t.co/mlD2zmfa…\n",
      "\n",
      "702148390063357952 Triumph the Insult Comic Dog at the Democratic Debate https://t.co/wjVBSus4l4 via @YouTube\n",
      "\n",
      "702148075469598720 RT @Jeannie_Hartley: #Politics hilarious Triumph the Insult Comic Dog Sends Fake Fox News Girls to #Trump Rally • ... https://t.co/mlD2zmfa…\n",
      "\n",
      "702147808644755456 #Politics hilarious Triumph the Insult Comic Dog Sends Fake Fox News Girls to #Trump Rally • ... https://t.co/mlD2zmfac5 via @YouTube\n",
      "\n",
      "702141162707091457 Triumph the Insult Comic Dog Sends Fake Fox News Girls to Trump Rally • ... https://t.co/kaesIJhuzO via @YouTube\n",
      "\n",
      "702130380455825408 you can[t spell Trump without Triumph....the comic insult dog...\n",
      "\n",
      "https://t.co/KFKALAkMjg https://t.co/oXkNHoqfmw\n",
      "\n",
      "702129194357157889 Someday i hope to meet Triumph the Insult Comic Dog in person. He's an American Treasure.\n",
      "\n",
      "702123098393354240 Triumph the Insult Comic Dog Sends Fake Fox News Girls to Trump Rally • ... https://t.co/k4Ak36pORR via @YouTube\n",
      "\n",
      "702113587939164160 RT @HuffingtonPost: Why the man behind \"Triumph, the Insult Comic Dog\" won't be making anti-gay jokes https://t.co/XYd0l5x8H2 https://t.co/…\n",
      "\n",
      "702112568794546176 #morningjoe\n",
      "Triumph the Insult Comic Dog Sends Fake Fox News Girls to Trump Rally • ... https://t.co/RCLr7KECkT via YouTube\n",
      "\n",
      "702101409018331136 Triumph the Insult Comic Dog Talks to Young Voters https://t.co/a1FkpBV8Nn\n",
      "\n",
      "702101097268256768 Triumph the Insult Comic Dog Sends Fake Fox News Girls to Trump Rally • ... https://t.co/7MXjIczV1Y via @YouTube\n",
      "\n",
      "702101025038082053 Triumph the Insult Comic Dog Talks to Young Voters • Triumph on Hulu:  https://t.co/QtFk5xEXaf\n",
      "\n",
      "702100797098762240 Why the man behind \"Triumph, the Insult Comic Dog\" won't be making anti-gay jokes https://t.co/vEFHkTIVGx https://t.co/rrmCqdp3oZ\n",
      "\n",
      "702099996338819072 Trump is just Triumph, the Insult Comic.\n",
      "\n",
      "702094357894139904 Triumph the Insult Comic Dog Talks to Young Voters • Triumph on Hulu https://t.co/sqb4RBOJBo #staged https://t.co/32ftmPiyoI\n",
      "\n",
      "702081154921451520 I liked a @YouTube video https://t.co/2soxhosXe6 Triumph the Insult Comic Dog Talks to Young Voters • Triumph on Hulu\n",
      "\n",
      "702062478327418880 RT @HuffingtonPost: Why the man behind \"Triumph, the Insult Comic Dog\" won't be making anti-gay jokes https://t.co/XYd0l5x8H2 https://t.co/…\n",
      "\n",
      "702059885668790272 i probs would've had mika's hair done if i didn't let my friend weasel me into watching triumph the insult comic dog stalk ted cruz\n",
      "\n",
      "702059329088843782 In an interview with HuffPost Live this week, the man behind \"Triumph the Insult Comic Dog\" recalled a time he'd written a sketch with an\n",
      "\n",
      "702044644994060288 I liked a @YouTube video https://t.co/JVP1nKTL3g Donald Trump Supporters Interviewed by Triumph the Insult Comic Dog • Triumph on\n",
      "\n",
      "702041840703422464 I liked a @YouTube video https://t.co/A45ByAJzLM Triumph the Insult Comic Dog Sends Fake Fox News Girls to Trump Rally • Triumph on\n",
      "\n",
      "702030420859195393 Re: Triumph the Insult Comic Dog talks to Young Voters https://t.co/fIAVtw7cSC #videogames #gaming\n",
      "\n",
      "702028402195300352 I liked a @YouTube video https://t.co/ddaXHzxzb7 Triumph the Insult Comic Dog's Ben Carson Social Experiment • Triumph on Hulu\n",
      "\n",
      "702025058512928768 RT @mcdonaldcomedy: Hilarious -&gt; Triumph the Insult Comic Dog Talks to Young Voters • Triumph on Hulu https://t.co/yrms53oUkY via @YouTube\n",
      "\n",
      "702023811395407872 Triumph the Insult Comic Dog at the Democratic Debate • Triumph on Hulu @Spriggan55 @answerAi3_  https://t.co/m2hDr7PPt9\n",
      "\n",
      "702023362290307072 Triumph the Insult Comic Dog sends women posing as Fox News Girls to GOP political events to ask some tough... https://t.co/aNTWgmdgp4\n",
      "\n",
      "702023359765164033 Triumph the Insult Comic Dog Sends Fake Fox News Girls to Trump Rally  Triumph on Hulu https://t.co/nMvTgKSgsK\n",
      "\n",
      "702020583261753344 Why 'Triumph The Insult Comic Dog' Won't Be Making Any Anti-Gay Jokes https://t.co/4WAwBsLlIQ\n",
      "\n",
      "702020097704120320 #ufosfacts Triumph the Insult Comic Dog Sends Fake Fox News Girls to Trump Rally Triumph on Hulu... https://t.co/24HdK07TZ2\n",
      "\n"
     ]
    }
   ],
   "source": [
    "tweets = response.json()['statuses']\n",
    "\n",
    "print 'PAGE 1'\n",
    "for tweet in tweets:\n",
    "    print tweet['id'], tweet['text']\n",
    "    print"
   ]
  },
  {
   "cell_type": "code",
   "execution_count": 31,
   "metadata": {
    "collapsed": false
   },
   "outputs": [
    {
     "name": "stdout",
     "output_type": "stream",
     "text": [
      "PAGE 2\n",
      "DiscloseTVwww- Triumph the Insult Comic Dog Sends Fake Fox News Girls to Trump Rally Triumph on Hulu https://t.co/93k6D1sH4E\n",
      "\n",
      "#ufosfacts Triumph the Insult Comic Dog Sends Fake Fox News Girls to Trump… https://t.co/9nPK8qNfq5 #ufos #ufosfacts https://t.co/dxNkKJad3C\n",
      "\n",
      "Just watched the Triumph the Insult Comic Dog Election Special on Hulu and I need a face transplant from laughing so hard.\n",
      "\n",
      "@TriumphICDHQ how can u censor great comedy? #MoreAmendments triumph the Insult Comic Dog Kicked Out of GOP Event https://t.co/mfkm9zVoqC\n",
      "\n",
      "RT @HuffingtonPost: Why the man behind \"Triumph, the Insult Comic Dog\" won't be making anti-gay jokes https://t.co/XYd0l5x8H2 https://t.co/…\n",
      "\n",
      "RT @nofm_radio: Triumph está haciendo de las suyas en las elecciones de EUA. No se lo pierda #porNoFM https://t.co/FqpfP223Ek https://t.co/…\n",
      "\n",
      "Triumph está haciendo de las suyas en las elecciones de EUA. No se lo pierda #porNoFM https://t.co/FqpfP223Ek https://t.co/6v0tr3BwFV\n",
      "\n",
      "RT @dbmillerphoto: Triumph the Insult Comic Dog Sends Fake Fox News Girls to Trump Rally • ... https://t.co/iaT7OL3H9x via @YouTube\n",
      "\n",
      "Triumph the Insult Comic Dog is fucking awesome!\n",
      "\n",
      "Triumph the Insult Comic Dog Sends Fake Fox News Girls to Trump Rally • ... https://t.co/iaT7OL3H9x via @YouTube\n",
      "\n",
      "RT @PwnParrot: Donald Trump Supporters Interviewed by Triumph the Insult Comic Dog  • T... https://t.co/HzBiDnfwo2 via @YouTube\n",
      "\n",
      "Re: Triumph the Insult Comic Dog talks to Young Voters https://t.co/vQSLsvfcG9 #videogames #gaming\n",
      "\n",
      "RT @HuffPostLive: WATCH: Triumph The Insult Comic Dog talks about the 2016 election https://t.co/rqPGx41a0p\n",
      "\n",
      "WATCH: Triumph The Insult Comic Dog talks about the 2016 election https://t.co/rqPGx41a0p\n",
      "\n",
      "Triumph the Insult Comic Dog Sends Fake Fox News Girls to Trump Rally • ... https://t.co/70cU6W3Ucj via @YouTube\n",
      "\n",
      "Triumph the Insult Comic Dog Sends Fake Fox News Girls to Trump Rally • ... https://t.co/xgZnP450Tk via @YouTube\n",
      "\n",
      "Insult Comic Dog 이 왜 콜베르에? ( 위키에도 크리에이터 코난으로 돼 있군요 https://t.co/mVaF7WShJp ) Robert Smigel 게스트 출연인듯 https://t.co/6HQYV7EN4d\n",
      "\n",
      "Triumph the Insult Comic Dog's #BenCarson Social Experiment • Triumph on Hulu #YouTube... https://t.co/Es3c2ZD2JL https://t.co/jhodDx49xe\n",
      "\n",
      "Triumph the Insult Comic Dog Sends Fake Fox News Girls to Trump Rally • Triumph on Hulu https://t.co/1YTlDEFgUQ\n",
      "\n",
      "Why the man behind \"Triumph, the Insult Comic Dog\" won't be making anti-gay jokes https://t.co/P5mu8pI4bj https://t.co/gUK9TFcvZz\n",
      "\n",
      "RT @HuffingtonPost: Why the man behind \"Triumph, the Insult Comic Dog\" won't be making anti-gay jokes https://t.co/XYd0l5x8H2 https://t.co/…\n",
      "\n",
      "Every time I see Triumph the Insult Comic Dog I like his schtick a little bit less.\n",
      "\n",
      "RT @HuffingtonPost: Why the man behind \"Triumph, the Insult Comic Dog\" won't be making anti-gay jokes https://t.co/XYd0l5x8H2 https://t.co/…\n",
      "\n",
      "RT @HuffingtonPost: Why the man behind \"Triumph, the Insult Comic Dog\" won't be making anti-gay jokes https://t.co/XYd0l5x8H2 https://t.co/…\n",
      "\n",
      "RT @HuffingtonPost: Why the man behind \"Triumph, the Insult Comic Dog\" won't be making anti-gay jokes https://t.co/XYd0l5x8H2 https://t.co/…\n",
      "\n",
      "RT @HuffingtonPost: Why the man behind \"Triumph, the Insult Comic Dog\" won't be making anti-gay jokes https://t.co/XYd0l5x8H2 https://t.co/…\n",
      "\n",
      "RT @HuffingtonPost: Why the man behind \"Triumph, the Insult Comic Dog\" won't be making anti-gay jokes https://t.co/XYd0l5x8H2 https://t.co/…\n",
      "\n",
      "RT @HuffingtonPost: Why the man behind \"Triumph, the Insult Comic Dog\" won't be making anti-gay jokes https://t.co/XYd0l5x8H2 https://t.co/…\n",
      "\n",
      "RT @HuffingtonPost: Why the man behind \"Triumph, the Insult Comic Dog\" won't be making anti-gay jokes https://t.co/XYd0l5x8H2 https://t.co/…\n",
      "\n",
      "RT @HuffingtonPost: Why the man behind \"Triumph, the Insult Comic Dog\" won't be making anti-gay jokes https://t.co/XYd0l5x8H2 https://t.co/…\n",
      "\n",
      "RT @HuffingtonPost: Why the man behind \"Triumph, the Insult Comic Dog\" won't be making anti-gay jokes https://t.co/XYd0l5x8H2 https://t.co/…\n",
      "\n",
      "RT @HuffingtonPost: Why the man behind \"Triumph, the Insult Comic Dog\" won't be making anti-gay jokes https://t.co/XYd0l5x8H2 https://t.co/…\n",
      "\n",
      "RT @HuffingtonPost: Why the man behind \"Triumph, the Insult Comic Dog\" won't be making anti-gay jokes https://t.co/XYd0l5x8H2 https://t.co/…\n",
      "\n",
      "RT @HuffingtonPost: Why the man behind \"Triumph, the Insult Comic Dog\" won't be making anti-gay jokes https://t.co/XYd0l5x8H2 https://t.co/…\n",
      "\n",
      "Why the man behind \"Triumph, the Insult Comic Dog\" won't be making anti-gay jokes https://t.co/XYd0l5x8H2 https://t.co/4wvOJNAAvJ\n",
      "\n",
      "I liked a @YouTube video https://t.co/nnBy24nEcq Triumph the Insult Comic Dog at the Democratic Debate • Triumph on Hulu\n",
      "\n",
      "I liked a @YouTube video https://t.co/dTglFVzRQx Triumph the Insult Comic Dog Mentors Mike Huckabee • Triumph on Hulu\n",
      "\n",
      "RT @nofm_radio: ¿Ya vieron lo que @TriumphICDHQ está haciendo sobre las elecciones en EUA?Es genial.#porNoFM https://t.co/FqpfP223Ek https:…\n",
      "\n",
      "I liked a @YouTube video https://t.co/iRx0K26E3e Donald Trump Supporters Interviewed by Triumph the Insult Comic Dog • Triumph on\n",
      "\n",
      "VIDEO: Triumph The Insult Comic Dog Talks Presidential Election on LATE SHOW... https://t.co/PXYiYvKFkr https://t.co/sZSJIyQpsq\n",
      "\n"
     ]
    }
   ],
   "source": [
    "search_url = \"https://api.twitter.com/1.1/search/tweets.json\"\n",
    "next_page_url = search_url + response.json()['search_metadata']['next_results']\n",
    "\n",
    "response = requests.get(next_page_url, auth=oauth)\n",
    "\n",
    "print 'PAGE 2'\n",
    "for tweet in response.json()['statuses']:\n",
    "    print tweet['text']\n",
    "    print"
   ]
  },
  {
   "cell_type": "code",
   "execution_count": 32,
   "metadata": {
    "collapsed": false
   },
   "outputs": [],
   "source": [
    "\n",
    "# pip install tweepy\n",
    "import tweepy\n",
    "import pandas as pd\n",
    "\n",
    "auth = tweepy.OAuthHandler(config[\"consumer_key\"],\n",
    "                           config[\"consumer_secret\"])\n",
    "auth.set_access_token(config[\"access_token\"],\n",
    "                      config[\"access_token_secret\"])\n",
    "\n",
    "api=tweepy.API(auth)"
   ]
  },
  {
   "cell_type": "code",
   "execution_count": 42,
   "metadata": {
    "collapsed": false
   },
   "outputs": [
    {
     "name": "stdout",
     "output_type": "stream",
     "text": [
      "Status(contributors=None, truncated=False, text=u'RT @ClassicPict: Donald Trump v Adolf Hitler https://t.co/TJBmi50MhX', is_quote_status=False, in_reply_to_status_id=None, id=702194191787405317, favorite_count=0, _api=<tweepy.api.API object at 0x104286990>, author=User(follow_request_sent=False, has_extended_profile=True, profile_use_background_image=True, _json={u'follow_request_sent': False, u'has_extended_profile': True, u'profile_use_background_image': True, u'default_profile_image': False, u'id': 1740314857, u'profile_background_image_url_https': u'https://abs.twimg.com/images/themes/theme1/bg.png', u'verified': False, u'profile_text_color': u'333333', u'profile_image_url_https': u'https://pbs.twimg.com/profile_images/684332054243225601/RkoOeMd2_normal.jpg', u'profile_sidebar_fill_color': u'DDEEF6', u'entities': {u'description': {u'urls': []}}, u'followers_count': 217, u'profile_sidebar_border_color': u'C0DEED', u'id_str': u'1740314857', u'profile_background_color': u'C0DEED', u'listed_count': 2, u'is_translation_enabled': False, u'utc_offset': None, u'statuses_count': 3091, u'description': u'|| INFP || || theatre ||', u'friends_count': 177, u'location': u'', u'profile_link_color': u'0084B4', u'profile_image_url': u'http://pbs.twimg.com/profile_images/684332054243225601/RkoOeMd2_normal.jpg', u'following': False, u'geo_enabled': False, u'profile_banner_url': u'https://pbs.twimg.com/profile_banners/1740314857/1444511803', u'profile_background_image_url': u'http://abs.twimg.com/images/themes/theme1/bg.png', u'screen_name': u'elizabeth_offc', u'lang': u'en', u'profile_background_tile': False, u'favourites_count': 10694, u'name': u'\\ufe0fE L I Z A B E T H', u'notifications': False, u'url': None, u'created_at': u'Sat Sep 07 04:00:42 +0000 2013', u'contributors_enabled': False, u'time_zone': None, u'protected': False, u'default_profile': True, u'is_translator': False}, time_zone=None, id=1740314857, _api=<tweepy.api.API object at 0x104286990>, verified=False, profile_text_color=u'333333', profile_image_url_https=u'https://pbs.twimg.com/profile_images/684332054243225601/RkoOeMd2_normal.jpg', profile_sidebar_fill_color=u'DDEEF6', is_translator=False, geo_enabled=False, entities={u'description': {u'urls': []}}, followers_count=217, protected=False, id_str=u'1740314857', default_profile_image=False, listed_count=2, lang=u'en', utc_offset=None, statuses_count=3091, description=u'|| INFP || || theatre ||', friends_count=177, profile_link_color=u'0084B4', profile_image_url=u'http://pbs.twimg.com/profile_images/684332054243225601/RkoOeMd2_normal.jpg', notifications=False, profile_background_image_url_https=u'https://abs.twimg.com/images/themes/theme1/bg.png', profile_background_color=u'C0DEED', profile_banner_url=u'https://pbs.twimg.com/profile_banners/1740314857/1444511803', profile_background_image_url=u'http://abs.twimg.com/images/themes/theme1/bg.png', name=u'\\ufe0fE L I Z A B E T H', is_translation_enabled=False, profile_background_tile=False, favourites_count=10694, screen_name=u'elizabeth_offc', url=None, created_at=datetime.datetime(2013, 9, 7, 4, 0, 42), contributors_enabled=False, location=u'', profile_sidebar_border_color=u'C0DEED', default_profile=True, following=False), _json={u'contributors': None, u'truncated': False, u'text': u'RT @ClassicPict: Donald Trump v Adolf Hitler https://t.co/TJBmi50MhX', u'is_quote_status': False, u'in_reply_to_status_id': None, u'id': 702194191787405317, u'favorite_count': 0, u'source': u'<a href=\"http://twitter.com/download/android\" rel=\"nofollow\">Twitter for Android</a>', u'retweeted': False, u'coordinates': None, u'entities': {u'symbols': [], u'user_mentions': [{u'id': 918346674, u'indices': [3, 15], u'id_str': u'918346674', u'screen_name': u'ClassicPict', u'name': u'Unexplained World'}], u'hashtags': [], u'urls': [], u'media': [{u'source_user_id': 918346674, u'source_status_id_str': u'674586096949424128', u'expanded_url': u'http://twitter.com/ClassicPict/status/674586096949424128/photo/1', u'display_url': u'pic.twitter.com/TJBmi50MhX', u'url': u'https://t.co/TJBmi50MhX', u'media_url_https': u'https://pbs.twimg.com/media/CVycdL6WIAEWDnH.jpg', u'source_user_id_str': u'918346674', u'source_status_id': 674586096949424128, u'id_str': u'674586069426380801', u'sizes': {u'small': {u'h': 381, u'resize': u'fit', u'w': 340}, u'large': {u'h': 807, u'resize': u'fit', u'w': 720}, u'medium': {u'h': 673, u'resize': u'fit', u'w': 600}, u'thumb': {u'h': 150, u'resize': u'crop', u'w': 150}}, u'indices': [45, 68], u'type': u'photo', u'id': 674586069426380801, u'media_url': u'http://pbs.twimg.com/media/CVycdL6WIAEWDnH.jpg'}]}, u'in_reply_to_screen_name': None, u'in_reply_to_user_id': None, u'retweet_count': 81832, u'id_str': u'702194191787405317', u'favorited': False, u'retweeted_status': {u'contributors': None, u'truncated': False, u'text': u'Donald Trump v Adolf Hitler https://t.co/TJBmi50MhX', u'is_quote_status': False, u'in_reply_to_status_id': None, u'id': 674586096949424128, u'favorite_count': 73801, u'source': u'<a href=\"http://twitter.com/download/android\" rel=\"nofollow\">Twitter for Android</a>', u'retweeted': False, u'coordinates': None, u'entities': {u'symbols': [], u'user_mentions': [], u'hashtags': [], u'urls': [], u'media': [{u'expanded_url': u'http://twitter.com/ClassicPict/status/674586096949424128/photo/1', u'display_url': u'pic.twitter.com/TJBmi50MhX', u'url': u'https://t.co/TJBmi50MhX', u'media_url_https': u'https://pbs.twimg.com/media/CVycdL6WIAEWDnH.jpg', u'id_str': u'674586069426380801', u'sizes': {u'small': {u'h': 381, u'resize': u'fit', u'w': 340}, u'large': {u'h': 807, u'resize': u'fit', u'w': 720}, u'medium': {u'h': 673, u'resize': u'fit', u'w': 600}, u'thumb': {u'h': 150, u'resize': u'crop', u'w': 150}}, u'indices': [28, 51], u'type': u'photo', u'id': 674586069426380801, u'media_url': u'http://pbs.twimg.com/media/CVycdL6WIAEWDnH.jpg'}]}, u'in_reply_to_screen_name': None, u'in_reply_to_user_id': None, u'retweet_count': 81832, u'id_str': u'674586096949424128', u'favorited': False, u'user': {u'follow_request_sent': False, u'has_extended_profile': False, u'profile_use_background_image': True, u'default_profile_image': False, u'id': 918346674, u'profile_background_image_url_https': u'https://abs.twimg.com/images/themes/theme3/bg.gif', u'verified': False, u'profile_text_color': u'634047', u'profile_image_url_https': u'https://pbs.twimg.com/profile_images/539472170385412096/RWJZlFZV_normal.png', u'profile_sidebar_fill_color': u'E3E2DE', u'entities': {u'description': {u'urls': []}}, u'followers_count': 937918, u'profile_sidebar_border_color': u'D3D2CF', u'id_str': u'918346674', u'profile_background_color': u'EDECE9', u'listed_count': 1302, u'is_translation_enabled': False, u'utc_offset': -28800, u'statuses_count': 577, u'description': u\"Conspiracy, mysteries, facts and truth to change your views about the world.\\n\\nPosts may be controversial.\\r\\n\\r\\nWe don't take credit for pictures.\", u'friends_count': 689, u'location': u'', u'profile_link_color': u'088253', u'profile_image_url': u'http://pbs.twimg.com/profile_images/539472170385412096/RWJZlFZV_normal.png', u'following': False, u'geo_enabled': True, u'profile_banner_url': u'https://pbs.twimg.com/profile_banners/918346674/1413644501', u'profile_background_image_url': u'http://abs.twimg.com/images/themes/theme3/bg.gif', u'screen_name': u'ClassicPict', u'lang': u'en', u'profile_background_tile': False, u'favourites_count': 109, u'name': u'Unexplained World', u'notifications': False, u'url': None, u'created_at': u'Thu Nov 01 06:09:34 +0000 2012', u'contributors_enabled': False, u'time_zone': u'Pacific Time (US & Canada)', u'protected': False, u'default_profile': False, u'is_translator': False}, u'geo': None, u'in_reply_to_user_id_str': None, u'possibly_sensitive': True, u'lang': u'en', u'created_at': u'Wed Dec 09 13:47:13 +0000 2015', u'in_reply_to_status_id_str': None, u'place': None, u'metadata': {u'iso_language_code': u'en', u'result_type': u'recent'}}, u'user': {u'follow_request_sent': False, u'has_extended_profile': True, u'profile_use_background_image': True, u'default_profile_image': False, u'id': 1740314857, u'profile_background_image_url_https': u'https://abs.twimg.com/images/themes/theme1/bg.png', u'verified': False, u'profile_text_color': u'333333', u'profile_image_url_https': u'https://pbs.twimg.com/profile_images/684332054243225601/RkoOeMd2_normal.jpg', u'profile_sidebar_fill_color': u'DDEEF6', u'entities': {u'description': {u'urls': []}}, u'followers_count': 217, u'profile_sidebar_border_color': u'C0DEED', u'id_str': u'1740314857', u'profile_background_color': u'C0DEED', u'listed_count': 2, u'is_translation_enabled': False, u'utc_offset': None, u'statuses_count': 3091, u'description': u'|| INFP || || theatre ||', u'friends_count': 177, u'location': u'', u'profile_link_color': u'0084B4', u'profile_image_url': u'http://pbs.twimg.com/profile_images/684332054243225601/RkoOeMd2_normal.jpg', u'following': False, u'geo_enabled': False, u'profile_banner_url': u'https://pbs.twimg.com/profile_banners/1740314857/1444511803', u'profile_background_image_url': u'http://abs.twimg.com/images/themes/theme1/bg.png', u'screen_name': u'elizabeth_offc', u'lang': u'en', u'profile_background_tile': False, u'favourites_count': 10694, u'name': u'\\ufe0fE L I Z A B E T H', u'notifications': False, u'url': None, u'created_at': u'Sat Sep 07 04:00:42 +0000 2013', u'contributors_enabled': False, u'time_zone': None, u'protected': False, u'default_profile': True, u'is_translator': False}, u'geo': None, u'in_reply_to_user_id_str': None, u'possibly_sensitive': False, u'lang': u'en', u'created_at': u'Tue Feb 23 18:11:56 +0000 2016', u'in_reply_to_status_id_str': None, u'place': None, u'metadata': {u'iso_language_code': u'en', u'result_type': u'recent'}}, coordinates=None, entities={u'symbols': [], u'user_mentions': [{u'id': 918346674, u'indices': [3, 15], u'id_str': u'918346674', u'screen_name': u'ClassicPict', u'name': u'Unexplained World'}], u'hashtags': [], u'urls': [], u'media': [{u'source_user_id': 918346674, u'source_status_id_str': u'674586096949424128', u'expanded_url': u'http://twitter.com/ClassicPict/status/674586096949424128/photo/1', u'display_url': u'pic.twitter.com/TJBmi50MhX', u'url': u'https://t.co/TJBmi50MhX', u'media_url_https': u'https://pbs.twimg.com/media/CVycdL6WIAEWDnH.jpg', u'source_user_id_str': u'918346674', u'source_status_id': 674586096949424128, u'id_str': u'674586069426380801', u'sizes': {u'small': {u'h': 381, u'resize': u'fit', u'w': 340}, u'large': {u'h': 807, u'resize': u'fit', u'w': 720}, u'medium': {u'h': 673, u'resize': u'fit', u'w': 600}, u'thumb': {u'h': 150, u'resize': u'crop', u'w': 150}}, u'indices': [45, 68], u'type': u'photo', u'id': 674586069426380801, u'media_url': u'http://pbs.twimg.com/media/CVycdL6WIAEWDnH.jpg'}]}, in_reply_to_screen_name=None, id_str=u'702194191787405317', retweet_count=81832, in_reply_to_user_id=None, favorited=False, retweeted_status=Status(contributors=None, truncated=False, text=u'Donald Trump v Adolf Hitler https://t.co/TJBmi50MhX', is_quote_status=False, in_reply_to_status_id=None, id=674586096949424128, favorite_count=73801, _api=<tweepy.api.API object at 0x104286990>, author=User(follow_request_sent=False, has_extended_profile=False, profile_use_background_image=True, _json={u'follow_request_sent': False, u'has_extended_profile': False, u'profile_use_background_image': True, u'default_profile_image': False, u'id': 918346674, u'profile_background_image_url_https': u'https://abs.twimg.com/images/themes/theme3/bg.gif', u'verified': False, u'profile_text_color': u'634047', u'profile_image_url_https': u'https://pbs.twimg.com/profile_images/539472170385412096/RWJZlFZV_normal.png', u'profile_sidebar_fill_color': u'E3E2DE', u'entities': {u'description': {u'urls': []}}, u'followers_count': 937918, u'profile_sidebar_border_color': u'D3D2CF', u'id_str': u'918346674', u'profile_background_color': u'EDECE9', u'listed_count': 1302, u'is_translation_enabled': False, u'utc_offset': -28800, u'statuses_count': 577, u'description': u\"Conspiracy, mysteries, facts and truth to change your views about the world.\\n\\nPosts may be controversial.\\r\\n\\r\\nWe don't take credit for pictures.\", u'friends_count': 689, u'location': u'', u'profile_link_color': u'088253', u'profile_image_url': u'http://pbs.twimg.com/profile_images/539472170385412096/RWJZlFZV_normal.png', u'following': False, u'geo_enabled': True, u'profile_banner_url': u'https://pbs.twimg.com/profile_banners/918346674/1413644501', u'profile_background_image_url': u'http://abs.twimg.com/images/themes/theme3/bg.gif', u'screen_name': u'ClassicPict', u'lang': u'en', u'profile_background_tile': False, u'favourites_count': 109, u'name': u'Unexplained World', u'notifications': False, u'url': None, u'created_at': u'Thu Nov 01 06:09:34 +0000 2012', u'contributors_enabled': False, u'time_zone': u'Pacific Time (US & Canada)', u'protected': False, u'default_profile': False, u'is_translator': False}, time_zone=u'Pacific Time (US & Canada)', id=918346674, _api=<tweepy.api.API object at 0x104286990>, verified=False, profile_text_color=u'634047', profile_image_url_https=u'https://pbs.twimg.com/profile_images/539472170385412096/RWJZlFZV_normal.png', profile_sidebar_fill_color=u'E3E2DE', is_translator=False, geo_enabled=True, entities={u'description': {u'urls': []}}, followers_count=937918, protected=False, id_str=u'918346674', default_profile_image=False, listed_count=1302, lang=u'en', utc_offset=-28800, statuses_count=577, description=u\"Conspiracy, mysteries, facts and truth to change your views about the world.\\n\\nPosts may be controversial.\\r\\n\\r\\nWe don't take credit for pictures.\", friends_count=689, profile_link_color=u'088253', profile_image_url=u'http://pbs.twimg.com/profile_images/539472170385412096/RWJZlFZV_normal.png', notifications=False, profile_background_image_url_https=u'https://abs.twimg.com/images/themes/theme3/bg.gif', profile_background_color=u'EDECE9', profile_banner_url=u'https://pbs.twimg.com/profile_banners/918346674/1413644501', profile_background_image_url=u'http://abs.twimg.com/images/themes/theme3/bg.gif', name=u'Unexplained World', is_translation_enabled=False, profile_background_tile=False, favourites_count=109, screen_name=u'ClassicPict', url=None, created_at=datetime.datetime(2012, 11, 1, 6, 9, 34), contributors_enabled=False, location=u'', profile_sidebar_border_color=u'D3D2CF', default_profile=False, following=False), _json={u'contributors': None, u'truncated': False, u'text': u'Donald Trump v Adolf Hitler https://t.co/TJBmi50MhX', u'is_quote_status': False, u'in_reply_to_status_id': None, u'id': 674586096949424128, u'favorite_count': 73801, u'source': u'<a href=\"http://twitter.com/download/android\" rel=\"nofollow\">Twitter for Android</a>', u'retweeted': False, u'coordinates': None, u'entities': {u'symbols': [], u'user_mentions': [], u'hashtags': [], u'urls': [], u'media': [{u'expanded_url': u'http://twitter.com/ClassicPict/status/674586096949424128/photo/1', u'display_url': u'pic.twitter.com/TJBmi50MhX', u'url': u'https://t.co/TJBmi50MhX', u'media_url_https': u'https://pbs.twimg.com/media/CVycdL6WIAEWDnH.jpg', u'id_str': u'674586069426380801', u'sizes': {u'small': {u'h': 381, u'resize': u'fit', u'w': 340}, u'large': {u'h': 807, u'resize': u'fit', u'w': 720}, u'medium': {u'h': 673, u'resize': u'fit', u'w': 600}, u'thumb': {u'h': 150, u'resize': u'crop', u'w': 150}}, u'indices': [28, 51], u'type': u'photo', u'id': 674586069426380801, u'media_url': u'http://pbs.twimg.com/media/CVycdL6WIAEWDnH.jpg'}]}, u'in_reply_to_screen_name': None, u'in_reply_to_user_id': None, u'retweet_count': 81832, u'id_str': u'674586096949424128', u'favorited': False, u'user': {u'follow_request_sent': False, u'has_extended_profile': False, u'profile_use_background_image': True, u'default_profile_image': False, u'id': 918346674, u'profile_background_image_url_https': u'https://abs.twimg.com/images/themes/theme3/bg.gif', u'verified': False, u'profile_text_color': u'634047', u'profile_image_url_https': u'https://pbs.twimg.com/profile_images/539472170385412096/RWJZlFZV_normal.png', u'profile_sidebar_fill_color': u'E3E2DE', u'entities': {u'description': {u'urls': []}}, u'followers_count': 937918, u'profile_sidebar_border_color': u'D3D2CF', u'id_str': u'918346674', u'profile_background_color': u'EDECE9', u'listed_count': 1302, u'is_translation_enabled': False, u'utc_offset': -28800, u'statuses_count': 577, u'description': u\"Conspiracy, mysteries, facts and truth to change your views about the world.\\n\\nPosts may be controversial.\\r\\n\\r\\nWe don't take credit for pictures.\", u'friends_count': 689, u'location': u'', u'profile_link_color': u'088253', u'profile_image_url': u'http://pbs.twimg.com/profile_images/539472170385412096/RWJZlFZV_normal.png', u'following': False, u'geo_enabled': True, u'profile_banner_url': u'https://pbs.twimg.com/profile_banners/918346674/1413644501', u'profile_background_image_url': u'http://abs.twimg.com/images/themes/theme3/bg.gif', u'screen_name': u'ClassicPict', u'lang': u'en', u'profile_background_tile': False, u'favourites_count': 109, u'name': u'Unexplained World', u'notifications': False, u'url': None, u'created_at': u'Thu Nov 01 06:09:34 +0000 2012', u'contributors_enabled': False, u'time_zone': u'Pacific Time (US & Canada)', u'protected': False, u'default_profile': False, u'is_translator': False}, u'geo': None, u'in_reply_to_user_id_str': None, u'possibly_sensitive': True, u'lang': u'en', u'created_at': u'Wed Dec 09 13:47:13 +0000 2015', u'in_reply_to_status_id_str': None, u'place': None, u'metadata': {u'iso_language_code': u'en', u'result_type': u'recent'}}, coordinates=None, entities={u'symbols': [], u'user_mentions': [], u'hashtags': [], u'urls': [], u'media': [{u'expanded_url': u'http://twitter.com/ClassicPict/status/674586096949424128/photo/1', u'display_url': u'pic.twitter.com/TJBmi50MhX', u'url': u'https://t.co/TJBmi50MhX', u'media_url_https': u'https://pbs.twimg.com/media/CVycdL6WIAEWDnH.jpg', u'id_str': u'674586069426380801', u'sizes': {u'small': {u'h': 381, u'resize': u'fit', u'w': 340}, u'large': {u'h': 807, u'resize': u'fit', u'w': 720}, u'medium': {u'h': 673, u'resize': u'fit', u'w': 600}, u'thumb': {u'h': 150, u'resize': u'crop', u'w': 150}}, u'indices': [28, 51], u'type': u'photo', u'id': 674586069426380801, u'media_url': u'http://pbs.twimg.com/media/CVycdL6WIAEWDnH.jpg'}]}, in_reply_to_screen_name=None, id_str=u'674586096949424128', retweet_count=81832, in_reply_to_user_id=None, favorited=False, source_url=u'http://twitter.com/download/android', user=User(follow_request_sent=False, has_extended_profile=False, profile_use_background_image=True, _json={u'follow_request_sent': False, u'has_extended_profile': False, u'profile_use_background_image': True, u'default_profile_image': False, u'id': 918346674, u'profile_background_image_url_https': u'https://abs.twimg.com/images/themes/theme3/bg.gif', u'verified': False, u'profile_text_color': u'634047', u'profile_image_url_https': u'https://pbs.twimg.com/profile_images/539472170385412096/RWJZlFZV_normal.png', u'profile_sidebar_fill_color': u'E3E2DE', u'entities': {u'description': {u'urls': []}}, u'followers_count': 937918, u'profile_sidebar_border_color': u'D3D2CF', u'id_str': u'918346674', u'profile_background_color': u'EDECE9', u'listed_count': 1302, u'is_translation_enabled': False, u'utc_offset': -28800, u'statuses_count': 577, u'description': u\"Conspiracy, mysteries, facts and truth to change your views about the world.\\n\\nPosts may be controversial.\\r\\n\\r\\nWe don't take credit for pictures.\", u'friends_count': 689, u'location': u'', u'profile_link_color': u'088253', u'profile_image_url': u'http://pbs.twimg.com/profile_images/539472170385412096/RWJZlFZV_normal.png', u'following': False, u'geo_enabled': True, u'profile_banner_url': u'https://pbs.twimg.com/profile_banners/918346674/1413644501', u'profile_background_image_url': u'http://abs.twimg.com/images/themes/theme3/bg.gif', u'screen_name': u'ClassicPict', u'lang': u'en', u'profile_background_tile': False, u'favourites_count': 109, u'name': u'Unexplained World', u'notifications': False, u'url': None, u'created_at': u'Thu Nov 01 06:09:34 +0000 2012', u'contributors_enabled': False, u'time_zone': u'Pacific Time (US & Canada)', u'protected': False, u'default_profile': False, u'is_translator': False}, time_zone=u'Pacific Time (US & Canada)', id=918346674, _api=<tweepy.api.API object at 0x104286990>, verified=False, profile_text_color=u'634047', profile_image_url_https=u'https://pbs.twimg.com/profile_images/539472170385412096/RWJZlFZV_normal.png', profile_sidebar_fill_color=u'E3E2DE', is_translator=False, geo_enabled=True, entities={u'description': {u'urls': []}}, followers_count=937918, protected=False, id_str=u'918346674', default_profile_image=False, listed_count=1302, lang=u'en', utc_offset=-28800, statuses_count=577, description=u\"Conspiracy, mysteries, facts and truth to change your views about the world.\\n\\nPosts may be controversial.\\r\\n\\r\\nWe don't take credit for pictures.\", friends_count=689, profile_link_color=u'088253', profile_image_url=u'http://pbs.twimg.com/profile_images/539472170385412096/RWJZlFZV_normal.png', notifications=False, profile_background_image_url_https=u'https://abs.twimg.com/images/themes/theme3/bg.gif', profile_background_color=u'EDECE9', profile_banner_url=u'https://pbs.twimg.com/profile_banners/918346674/1413644501', profile_background_image_url=u'http://abs.twimg.com/images/themes/theme3/bg.gif', name=u'Unexplained World', is_translation_enabled=False, profile_background_tile=False, favourites_count=109, screen_name=u'ClassicPict', url=None, created_at=datetime.datetime(2012, 11, 1, 6, 9, 34), contributors_enabled=False, location=u'', profile_sidebar_border_color=u'D3D2CF', default_profile=False, following=False), geo=None, in_reply_to_user_id_str=None, possibly_sensitive=True, lang=u'en', created_at=datetime.datetime(2015, 12, 9, 13, 47, 13), in_reply_to_status_id_str=None, place=None, source=u'Twitter for Android', retweeted=False, metadata={u'iso_language_code': u'en', u'result_type': u'recent'}), source_url=u'http://twitter.com/download/android', user=User(follow_request_sent=False, has_extended_profile=True, profile_use_background_image=True, _json={u'follow_request_sent': False, u'has_extended_profile': True, u'profile_use_background_image': True, u'default_profile_image': False, u'id': 1740314857, u'profile_background_image_url_https': u'https://abs.twimg.com/images/themes/theme1/bg.png', u'verified': False, u'profile_text_color': u'333333', u'profile_image_url_https': u'https://pbs.twimg.com/profile_images/684332054243225601/RkoOeMd2_normal.jpg', u'profile_sidebar_fill_color': u'DDEEF6', u'entities': {u'description': {u'urls': []}}, u'followers_count': 217, u'profile_sidebar_border_color': u'C0DEED', u'id_str': u'1740314857', u'profile_background_color': u'C0DEED', u'listed_count': 2, u'is_translation_enabled': False, u'utc_offset': None, u'statuses_count': 3091, u'description': u'|| INFP || || theatre ||', u'friends_count': 177, u'location': u'', u'profile_link_color': u'0084B4', u'profile_image_url': u'http://pbs.twimg.com/profile_images/684332054243225601/RkoOeMd2_normal.jpg', u'following': False, u'geo_enabled': False, u'profile_banner_url': u'https://pbs.twimg.com/profile_banners/1740314857/1444511803', u'profile_background_image_url': u'http://abs.twimg.com/images/themes/theme1/bg.png', u'screen_name': u'elizabeth_offc', u'lang': u'en', u'profile_background_tile': False, u'favourites_count': 10694, u'name': u'\\ufe0fE L I Z A B E T H', u'notifications': False, u'url': None, u'created_at': u'Sat Sep 07 04:00:42 +0000 2013', u'contributors_enabled': False, u'time_zone': None, u'protected': False, u'default_profile': True, u'is_translator': False}, time_zone=None, id=1740314857, _api=<tweepy.api.API object at 0x104286990>, verified=False, profile_text_color=u'333333', profile_image_url_https=u'https://pbs.twimg.com/profile_images/684332054243225601/RkoOeMd2_normal.jpg', profile_sidebar_fill_color=u'DDEEF6', is_translator=False, geo_enabled=False, entities={u'description': {u'urls': []}}, followers_count=217, protected=False, id_str=u'1740314857', default_profile_image=False, listed_count=2, lang=u'en', utc_offset=None, statuses_count=3091, description=u'|| INFP || || theatre ||', friends_count=177, profile_link_color=u'0084B4', profile_image_url=u'http://pbs.twimg.com/profile_images/684332054243225601/RkoOeMd2_normal.jpg', notifications=False, profile_background_image_url_https=u'https://abs.twimg.com/images/themes/theme1/bg.png', profile_background_color=u'C0DEED', profile_banner_url=u'https://pbs.twimg.com/profile_banners/1740314857/1444511803', profile_background_image_url=u'http://abs.twimg.com/images/themes/theme1/bg.png', name=u'\\ufe0fE L I Z A B E T H', is_translation_enabled=False, profile_background_tile=False, favourites_count=10694, screen_name=u'elizabeth_offc', url=None, created_at=datetime.datetime(2013, 9, 7, 4, 0, 42), contributors_enabled=False, location=u'', profile_sidebar_border_color=u'C0DEED', default_profile=True, following=False), geo=None, in_reply_to_user_id_str=None, possibly_sensitive=False, lang=u'en', created_at=datetime.datetime(2016, 2, 23, 18, 11, 56), in_reply_to_status_id_str=None, place=None, source=u'Twitter for Android', retweeted=False, metadata={u'iso_language_code': u'en', u'result_type': u'recent'})\n"
     ]
    }
   ],
   "source": [
    "max_tweets=1\n",
    "\n",
    "#Tweepy Cursor handles pagination .. \n",
    "\n",
    "for tweet in tweepy.Cursor(api.search,q=[\"trump\"]).items(max_tweets):\n",
    "    print tweet"
   ]
  },
  {
   "cell_type": "code",
   "execution_count": 37,
   "metadata": {
    "collapsed": true
   },
   "outputs": [],
   "source": [
    "results=[]\n",
    "\n",
    "\n",
    "for tweet in tweepy.Cursor(api.search,q=\"trump\").items(10):\n",
    "    results.append(tweet)"
   ]
  },
  {
   "cell_type": "code",
   "execution_count": 38,
   "metadata": {
    "collapsed": true
   },
   "outputs": [],
   "source": [
    "\n",
    "#  import pandas as pd\n",
    "def structure_results(results):\n",
    "    id_list=[tweet.id for tweet in results]\n",
    "    data=pd.DataFrame(id_list,columns=['id'])\n",
    "    \n",
    "    data[\"text\"]= [tweet.text.encode('utf-8') for tweet in results]\n",
    "    data[\"datetime\"]=[tweet.created_at for tweet in results]\n",
    "    data[\"Location\"]=[tweet.place for tweet in results]\n",
    "    \n",
    "    return data"
   ]
  },
  {
   "cell_type": "code",
   "execution_count": 41,
   "metadata": {
    "collapsed": false
   },
   "outputs": [
    {
     "data": {
      "text/plain": [
       "'RT @JimmyWayne: The liberal press is determined. However when I read \"He rarely interacts with top politicians or government... https://t.c\\xe2\\x80\\xa6'"
      ]
     },
     "execution_count": 41,
     "metadata": {},
     "output_type": "execute_result"
    }
   ],
   "source": [
    "data=structure_results(results)\n",
    "data.head().text[0]"
   ]
  },
  {
   "cell_type": "code",
   "execution_count": 44,
   "metadata": {
    "collapsed": false
   },
   "outputs": [],
   "source": [
    "\n",
    "import json\n",
    "from pymongo import MongoClient\n",
    "\n",
    "\n",
    "client = MongoClient()\n",
    "db = client.legislation\n",
    "# Our collection: \n",
    "tweets = db.new_tweets"
   ]
  },
  {
   "cell_type": "code",
   "execution_count": 45,
   "metadata": {
    "collapsed": false
   },
   "outputs": [
    {
     "data": {
      "text/plain": [
       "Collection(Database(MongoClient(host=['localhost:27017'], document_class=dict, tz_aware=False, connect=True), u'legislation'), u'new_tweets')"
      ]
     },
     "execution_count": 45,
     "metadata": {},
     "output_type": "execute_result"
    }
   ],
   "source": [
    "tweets"
   ]
  },
  {
   "cell_type": "code",
   "execution_count": 46,
   "metadata": {
    "collapsed": false
   },
   "outputs": [],
   "source": [
    "for tweet in results:\n",
    "    data={}\n",
    "    data['tweet']=tweet.text.encode('utf-8') \n",
    "    data['datetime']=tweet.created_at\n",
    "    tweets.insert_one(data)"
   ]
  },
  {
   "cell_type": "code",
   "execution_count": 48,
   "metadata": {
    "collapsed": false
   },
   "outputs": [
    {
     "data": {
      "text/plain": [
       "{u'_id': ObjectId('56cca3dc08b6fc1a4f779739'),\n",
       " u'datetime': datetime.datetime(2016, 2, 23, 18, 11, 14),\n",
       " u'tweet': u'RT @JimmyWayne: The liberal press is determined. However when I read \"He rarely interacts with top politicians or government... https://t.c\\u2026'}"
      ]
     },
     "execution_count": 48,
     "metadata": {},
     "output_type": "execute_result"
    }
   ],
   "source": [
    "tweets.find_one()"
   ]
  },
  {
   "cell_type": "code",
   "execution_count": null,
   "metadata": {
    "collapsed": true
   },
   "outputs": [],
   "source": []
  }
 ],
 "metadata": {
  "kernelspec": {
   "display_name": "Python 3",
   "language": "python",
   "name": "python3"
  },
  "language_info": {
   "codemirror_mode": {
    "name": "ipython",
    "version": 3
   },
   "file_extension": ".py",
   "mimetype": "text/x-python",
   "name": "python",
   "nbconvert_exporter": "python",
   "pygments_lexer": "ipython3",
   "version": "3.5.1"
  }
 },
 "nbformat": 4,
 "nbformat_minor": 0
}
